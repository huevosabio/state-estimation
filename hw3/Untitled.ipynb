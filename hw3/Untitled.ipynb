{
 "cells": [
  {
   "cell_type": "code",
   "execution_count": 1,
   "metadata": {},
   "outputs": [],
   "source": [
    "import numpy as np"
   ]
  },
  {
   "cell_type": "code",
   "execution_count": 12,
   "metadata": {},
   "outputs": [],
   "source": [
    "pi = np.array([\n",
    "    [1.],\n",
    "    [0.]\n",
    "])\n",
    "\n",
    "T = np.array([\n",
    "    [0.99, 0.001],\n",
    "    [0.01, 0.999]\n",
    "])\n",
    "\n",
    "M0 = np.array([\n",
    "    [0.9, 0],\n",
    "    [0, 0.01]\n",
    "])\n",
    "\n",
    "M1 = np.array([\n",
    "    [0.1, 0],\n",
    "    [0, 0.99]\n",
    "])\n",
    "\n",
    "M = lambda y: M1 if y else M0"
   ]
  },
  {
   "cell_type": "code",
   "execution_count": 13,
   "metadata": {},
   "outputs": [],
   "source": [
    "Y = np.zeros(99)\n",
    "Y[-1] = 1"
   ]
  },
  {
   "cell_type": "code",
   "execution_count": 14,
   "metadata": {},
   "outputs": [],
   "source": [
    "for y in Y:\n",
    "    num = np.dot(M(y), np.dot(T,pi))\n",
    "    den = np.linalg.norm(num, ord = 1)\n",
    "    pi = num/den"
   ]
  },
  {
   "cell_type": "code",
   "execution_count": 15,
   "metadata": {},
   "outputs": [
    {
     "data": {
      "text/plain": [
       "array([[0.90815476],\n",
       "       [0.09184524]])"
      ]
     },
     "execution_count": 15,
     "metadata": {},
     "output_type": "execute_result"
    }
   ],
   "source": [
    "pi"
   ]
  },
  {
   "cell_type": "code",
   "execution_count": null,
   "metadata": {},
   "outputs": [],
   "source": []
  }
 ],
 "metadata": {
  "kernelspec": {
   "display_name": "Python 2",
   "language": "python",
   "name": "python2"
  },
  "language_info": {
   "codemirror_mode": {
    "name": "ipython",
    "version": 2
   },
   "file_extension": ".py",
   "mimetype": "text/x-python",
   "name": "python",
   "nbconvert_exporter": "python",
   "pygments_lexer": "ipython2",
   "version": "2.7.10"
  }
 },
 "nbformat": 4,
 "nbformat_minor": 2
}
